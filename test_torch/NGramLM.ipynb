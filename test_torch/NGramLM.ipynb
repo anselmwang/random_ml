{
 "cells": [
  {
   "cell_type": "code",
   "execution_count": 56,
   "metadata": {
    "collapsed": true
   },
   "outputs": [],
   "source": [
    "import torch\n",
    "import torch.nn as nn\n",
    "import torch.nn.functional as F\n",
    "import torch.optim as optim\n",
    "import torch.utils.data\n",
    "import numpy as np"
   ]
  },
  {
   "cell_type": "code",
   "execution_count": 75,
   "metadata": {},
   "outputs": [],
   "source": [
    "test_sentence = \"\"\"When forty winters shall besiege thy brow,\n",
    "And dig deep trenches in thy beauty's field,\n",
    "Thy youth's proud livery so gazed on now,\n",
    "Will be a totter'd weed of small worth held:\n",
    "Then being asked, where all thy beauty lies,\n",
    "Where all the treasure of thy lusty days;\n",
    "To say, within thine own deep sunken eyes,\n",
    "Were an all-eating shame, and thriftless praise.\n",
    "How much more praise deserv'd thy beauty's use,\n",
    "If thou couldst answer 'This fair child of mine\n",
    "Shall sum my count, and make my old excuse,'\n",
    "Proving his beauty by succession thine!\n",
    "This were to be new made when thou art old,\n",
    "And see thy blood warm when thou feel'st it cold.\"\"\".split()\n",
    "trigrams = [((test_sentence[i], test_sentence[i+1]), test_sentence[i+2]) for i in range(len(test_sentence) - 2)]"
   ]
  },
  {
   "cell_type": "code",
   "execution_count": 76,
   "metadata": {},
   "outputs": [],
   "source": [
    "vocab = set(test_sentence)\n",
    "word_2_idx_dic = {word: no for no, word in enumerate(vocab)}"
   ]
  },
  {
   "cell_type": "code",
   "execution_count": 82,
   "metadata": {},
   "outputs": [],
   "source": [
    "class MyDataSet(torch.utils.data.Dataset):\n",
    "    def __init__(self, trigrams):\n",
    "        contexts = []\n",
    "        next_words = []\n",
    "        for context, next_word in trigrams:\n",
    "            contexts.append([word_2_idx_dic[word] for word in context])\n",
    "            next_words.append(word_2_idx_dic[next_word])\n",
    "\n",
    "        contexts = np.array(contexts, dtype=np.int64)\n",
    "        next_words = np.array(next_words, dtype=np.int64)\n",
    "\n",
    "        self.contexts = contexts\n",
    "        self.next_words = next_words\n",
    "    \n",
    "    def __len__(self):\n",
    "        return len(self.next_words)\n",
    "    \n",
    "    def __getitem__(self, i):\n",
    "        return self.contexts[i], self.next_words[i]\n",
    "    \n",
    "train_data = MyDataSet(trigrams)\n",
    "train_loader = torch.utils.data.DataLoader(train_data, batch_size=1, shuffle=True)"
   ]
  },
  {
   "cell_type": "code",
   "execution_count": 83,
   "metadata": {},
   "outputs": [],
   "source": [
    "class NGramLM(nn.Module):\n",
    "    def __init__(self, vocab_size, emb_size, context_len, hidden_size):\n",
    "        super(NGramLM, self).__init__()\n",
    "        self.emb = nn.Embedding(vocab_size, emb_size)\n",
    "        self.fc1 = nn.Linear(context_len * emb_size, hidden_size)\n",
    "        self.fc2 = nn.Linear(hidden_size, vocab_size)\n",
    "        \n",
    "    def forward(self, context_batch):\n",
    "        x = self.emb(context_batch).view(context_batch.shape[0], -1)\n",
    "        x = F.relu(self.fc1(x))\n",
    "        x = self.fc2(x)\n",
    "        return x\n",
    "    \n",
    "net = NGramLM(len(vocab), 10, 2, 128)\n",
    "criterion = nn.CrossEntropyLoss()\n",
    "optimizer = optim.SGD(net.parameters(), lr=0.01)"
   ]
  },
  {
   "cell_type": "code",
   "execution_count": 85,
   "metadata": {},
   "outputs": [
    {
     "name": "stdout",
     "output_type": "stream",
     "text": [
      "[299.135971814394, 272.8966073691845, 246.3786700218916, 220.39922662079334, 195.22155153751373, 171.23473075032234, 149.0150276273489, 128.6622850522399, 110.86262924969196, 95.62582163512707, 82.4597737044096, 71.31865440309048, 61.85314521193504, 54.14468117803335, 47.848887398839, 42.51327008754015, 38.23937687277794, 34.599759079515934, 31.468769513070583, 29.00860485434532, 26.800600700080395, 24.97014182806015, 23.2825563326478, 22.016695730388165, 20.677562549710274, 19.627597589045763, 18.854329355061054, 17.769334971904755, 16.95172924362123, 16.379757076501846]\n"
     ]
    }
   ],
   "source": [
    "losses = []\n",
    "for epoch_no in range(30):\n",
    "    loss_sum = 0.\n",
    "    for data in train_loader:\n",
    "        optimizer.zero_grad()\n",
    "        context_batch, next_word_batch = data\n",
    "        output = net.forward(context_batch)\n",
    "        loss = criterion(output, next_word_batch)\n",
    "        loss.backward()\n",
    "        optimizer.step()\n",
    "\n",
    "        loss_sum += loss.item()\n",
    "    losses.append(loss_sum)\n",
    "print(losses)"
   ]
  },
  {
   "cell_type": "code",
   "execution_count": null,
   "metadata": {
    "collapsed": true
   },
   "outputs": [],
   "source": []
  }
 ],
 "metadata": {
  "kernelspec": {
   "display_name": "Python 3",
   "language": "python",
   "name": "python3"
  },
  "language_info": {
   "codemirror_mode": {
    "name": "ipython",
    "version": 3
   },
   "file_extension": ".py",
   "mimetype": "text/x-python",
   "name": "python",
   "nbconvert_exporter": "python",
   "pygments_lexer": "ipython3",
   "version": "3.6.6"
  }
 },
 "nbformat": 4,
 "nbformat_minor": 2
}
